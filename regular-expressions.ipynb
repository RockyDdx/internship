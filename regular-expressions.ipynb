{
 "cells": [
  {
   "cell_type": "code",
   "execution_count": 1,
   "id": "cf70de53",
   "metadata": {},
   "outputs": [
    {
     "name": "stdout",
     "output_type": "stream",
     "text": [
      "Enter the text:Python Exercises, PHP exercises.\n",
      "Python:Exercises::PHP:exercises:\n"
     ]
    }
   ],
   "source": [
    "import re\n",
    "provided_input = input(\"Enter the text:\")\n",
    "required_output = re.sub(r\"(\\s)|(,)|(\\.)\",\":\",provided_input)\n",
    "print(required_output)\n"
   ]
  },
  {
   "cell_type": "code",
   "execution_count": 2,
   "id": "710b137e",
   "metadata": {},
   "outputs": [
    {
     "name": "stdout",
     "output_type": "stream",
     "text": [
      "                  SUMMARY\n",
      "0           hello, world!\n",
      "1              XXXXX test\n",
      "2  123four, five:; six...\n",
      "0      hello world\n",
      "1             test\n",
      "2    four five six\n",
      "Name: SUMMARY, dtype: object\n"
     ]
    }
   ],
   "source": [
    "import pandas as pd\n",
    "import re\n",
    "input_dict = {'SUMMARY' : ['hello, world!', 'XXXXX test', '123four, five:; six...']}\n",
    "df = pd.DataFrame(input_dict)\n",
    "df1=df[\"SUMMARY\"].apply(lambda x: re.sub(r\"[^a-z\\s]\",\"\",x))\n",
    "print(df)\n",
    "print(df1)\n"
   ]
  },
  {
   "cell_type": "code",
   "execution_count": 3,
   "id": "09daef57",
   "metadata": {},
   "outputs": [
    {
     "name": "stdout",
     "output_type": "stream",
     "text": [
      "Enter the text:Python Exercises, PHP exercises\n",
      "['Python', 'Exercises', 'exercises']\n"
     ]
    }
   ],
   "source": [
    "import re\n",
    "provided_input = input(\"Enter the text:\")\n",
    "all_matches = re.compile(r\"\\b\\w{4,}\\b\").findall(provided_input)\n",
    "print(all_matches)\n"
   ]
  },
  {
   "cell_type": "code",
   "execution_count": 4,
   "id": "289c99e3",
   "metadata": {},
   "outputs": [
    {
     "name": "stdout",
     "output_type": "stream",
     "text": [
      "Enter the text:Python Exercises, PHP exercises, they are very good to learn.\n",
      "['PHP', 'they', 'are', 'very', 'good', 'learn']\n"
     ]
    }
   ],
   "source": [
    "import re\n",
    "provided_input = input(\"Enter the text:\")\n",
    "all_matches = re.compile(r\"\\b\\w{3,5}\\b\").findall(provided_input)\n",
    "print(all_matches)\n"
   ]
  },
  {
   "cell_type": "code",
   "execution_count": 5,
   "id": "b4510220",
   "metadata": {},
   "outputs": [
    {
     "name": "stdout",
     "output_type": "stream",
     "text": [
      "['example .com', 'hr@fliprobo .com', 'github .com', 'Hello Data Science World', 'Data Scientist']\n"
     ]
    }
   ],
   "source": [
    "import re\n",
    "provided_input = [\"example (.com)\", \"hr@fliprobo (.com)\", \"github (.com)\", \"Hello (Data Science World)\", \"Data (Scientist)\"]\n",
    "result = [re.sub(re.compile(r\"[()]\"),\"\",x) for x in provided_input]\n",
    "print(result)\n"
   ]
  },
  {
   "cell_type": "code",
   "execution_count": 8,
   "id": "e122083d",
   "metadata": {},
   "outputs": [
    {
     "name": "stdout",
     "output_type": "stream",
     "text": [
      "<class 'list'> ['example (.com)', 'hr@fliprobo (.com)', 'github (.com)', 'Hello (Data Science World)', 'Data (Scientist)']\n",
      "['example ', 'hr@fliprobo ', 'github ', 'Hello ', 'Data ']\n"
     ]
    }
   ],
   "source": [
    "import re\n",
    "provided_input = [\"example (.com)\", \"hr@fliprobo (.com)\", \"github (.com)\", \"Hello (Data Science World)\", \"Data (Scientist)\"]\n",
    "with open(\"C:/Users/vinuv/Downloads/program-docs/list_of_strings.txt\", \"w\") as txt_file:\n",
    "    txt_file.write(str(provided_input ))\n",
    "with open(\"C:/Users/vinuv/Downloads/program-docs/list_of_strings.txt\") as txt_file:\n",
    "    txt_data = eval(txt_file.read())\n",
    "    print(type(txt_data), txt_data)\n",
    "    result = [re.sub(re.compile(r\"\\([^)]*\\)\"),\"\",x) for x in txt_data]\n",
    "    print(result)\n",
    "\n",
    "\n"
   ]
  },
  {
   "cell_type": "code",
   "execution_count": 9,
   "id": "bc9aee3a",
   "metadata": {},
   "outputs": [
    {
     "name": "stdout",
     "output_type": "stream",
     "text": [
      "Enter the text:ImportanceOfRegularExpressionsInPython\n",
      "['Importance', 'Of', 'Regular', 'Expressions', 'In', 'Python']\n"
     ]
    }
   ],
   "source": [
    "import re\n",
    "provided_input = input(\"Enter the text:\")\n",
    "result = [x for x in re.split(r\"(?=[A-Z])\",provided_input.strip()) if x]\n",
    "print(result)\n"
   ]
  },
  {
   "cell_type": "code",
   "execution_count": 10,
   "id": "439fb17d",
   "metadata": {},
   "outputs": [
    {
     "name": "stdout",
     "output_type": "stream",
     "text": [
      "Enter the text:RegularExpression1IsAn2ImportantTopic3InPython\n",
      "RegularExpression 1IsAn 2ImportantTopic 3InPython\n"
     ]
    }
   ],
   "source": [
    "import re\n",
    "provided_input = input(\"Enter the text:\")\n",
    "result = re.sub(r\"(?=[0-9])\",\" \",provided_input)\n",
    "print(result)\n"
   ]
  },
  {
   "cell_type": "code",
   "execution_count": 11,
   "id": "669db772",
   "metadata": {},
   "outputs": [
    {
     "name": "stdout",
     "output_type": "stream",
     "text": [
      "Enter the text:RegularExpression1IsAn2ImportantTopic3InPython\n",
      " Regular Expression 1 Is An 2 Important Topic 3 In Python\n"
     ]
    }
   ],
   "source": [
    "import re\n",
    "provided_input = input(\"Enter the text:\")\n",
    "result = re.sub(r\"(?=[0-9A-Z])\",\" \",provided_input)\n",
    "print(result)\n"
   ]
  },
  {
   "cell_type": "code",
   "execution_count": 37,
   "id": "a1e0c52d",
   "metadata": {},
   "outputs": [
    {
     "name": "stdout",
     "output_type": "stream",
     "text": [
      "Adding new column in same DF:          Country                           Region  Happiness Rank  \\\n",
      "0    Switzerland                   Western Europe               1   \n",
      "1        Iceland                   Western Europe               2   \n",
      "2        Denmark                   Western Europe               3   \n",
      "3         Norway                   Western Europe               4   \n",
      "4         Canada                    North America               5   \n",
      "..           ...                              ...             ...   \n",
      "153       Rwanda               Sub-Saharan Africa             154   \n",
      "154        Benin               Sub-Saharan Africa             155   \n",
      "155        Syria  Middle East and Northern Africa             156   \n",
      "156      Burundi               Sub-Saharan Africa             157   \n",
      "157         Togo               Sub-Saharan Africa             158   \n",
      "\n",
      "     Happiness Score  Standard Error  Economy (GDP per Capita)   Family  \\\n",
      "0              7.587         0.03411                   1.39651  1.34951   \n",
      "1              7.561         0.04884                   1.30232  1.40223   \n",
      "2              7.527         0.03328                   1.32548  1.36058   \n",
      "3              7.522         0.03880                   1.45900  1.33095   \n",
      "4              7.427         0.03553                   1.32629  1.32261   \n",
      "..               ...             ...                       ...      ...   \n",
      "153            3.465         0.03464                   0.22208  0.77370   \n",
      "154            3.340         0.03656                   0.28665  0.35386   \n",
      "155            3.006         0.05015                   0.66320  0.47489   \n",
      "156            2.905         0.08658                   0.01530  0.41587   \n",
      "157            2.839         0.06727                   0.20868  0.13995   \n",
      "\n",
      "     Health (Life Expectancy)  Freedom  Trust (Government Corruption)  \\\n",
      "0                     0.94143  0.66557                        0.41978   \n",
      "1                     0.94784  0.62877                        0.14145   \n",
      "2                     0.87464  0.64938                        0.48357   \n",
      "3                     0.88521  0.66973                        0.36503   \n",
      "4                     0.90563  0.63297                        0.32957   \n",
      "..                        ...      ...                            ...   \n",
      "153                   0.42864  0.59201                        0.55191   \n",
      "154                   0.31910  0.48450                        0.08010   \n",
      "155                   0.72193  0.15684                        0.18906   \n",
      "156                   0.22396  0.11850                        0.10062   \n",
      "157                   0.28443  0.36453                        0.10731   \n",
      "\n",
      "     Generosity  Dystopia Residual first_five_letters  \n",
      "0       0.29678            2.51738             Switze  \n",
      "1       0.43630            2.70201             Icelan  \n",
      "2       0.34139            2.49204             Denmar  \n",
      "3       0.34699            2.46531             Norway  \n",
      "4       0.45811            2.45176             Canada  \n",
      "..          ...                ...                ...  \n",
      "153     0.22628            0.67042             Rwanda  \n",
      "154     0.18260            1.63328              Benin  \n",
      "155     0.47179            0.32858              Syria  \n",
      "156     0.19727            1.83302             Burund  \n",
      "157     0.16681            1.56726               Togo  \n",
      "\n",
      "[158 rows x 13 columns]\n",
      "Create new DF and adding new column          Country first_five_letters\n",
      "0    Switzerland             Switze\n",
      "1        Iceland             Icelan\n",
      "2        Denmark             Denmar\n",
      "3         Norway             Norway\n",
      "4         Canada             Canada\n",
      "..           ...                ...\n",
      "153       Rwanda             Rwanda\n",
      "154        Benin              Benin\n",
      "155        Syria              Syria\n",
      "156      Burundi             Burund\n",
      "157         Togo               Togo\n",
      "\n",
      "[158 rows x 2 columns]\n"
     ]
    }
   ],
   "source": [
    "import pandas as pd\n",
    "import re\n",
    "df = pd.read_csv('https://raw.githubusercontent.com/dsrscientist/DSData/master/happiness_score_dataset.csv')\n",
    "df[\"first_five_letters\"] = df[\"Country\"].apply(lambda x: x[:6])\n",
    "print(\"Adding new column in same DF:\", df)\n",
    "new_df[\"first_five_letters\"] = df[\"Country\"].apply(lambda x: x[:6])\n",
    "print(\"Create new DF and adding new column\",new_df)\n"
   ]
  },
  {
   "cell_type": "code",
   "execution_count": 15,
   "id": "6cfdd4a8",
   "metadata": {},
   "outputs": [
    {
     "name": "stdout",
     "output_type": "stream",
     "text": [
      "Enter the text:RegularExpression1IsAn2Important_Topic3In_Python@#)\n",
      "['R', 'e', 'g', 'u', 'l', 'a', 'r', 'E', 'x', 'p', 'r', 'e', 's', 's', 'i', 'o', 'n', '1', 'I', 's', 'A', 'n', '2', 'I', 'm', 'p', 'o', 'r', 't', 'a', 'n', 't', '_', 'T', 'o', 'p', 'i', 'c', '3', 'I', 'n', '_', 'P', 'y', 't', 'h', 'o', 'n']\n"
     ]
    }
   ],
   "source": [
    "import re\n",
    "provided_input = input(\"Enter the text:\")\n",
    "all_matches = re.compile(r\"[0-9A-Za-z_]\").findall(provided_input)\n",
    "print(all_matches)\n"
   ]
  },
  {
   "cell_type": "code",
   "execution_count": 16,
   "id": "1b2c2de9",
   "metadata": {},
   "outputs": [
    {
     "name": "stdout",
     "output_type": "stream",
     "text": [
      "Enter the text:5Words 4 letters\n",
      "5\n"
     ]
    }
   ],
   "source": [
    "import re\n",
    "provided_input = input(\"Enter the text:\")\n",
    "all_matches = re.compile(r\"[5]\").match(provided_input)\n",
    "print(all_matches.group())\n"
   ]
  },
  {
   "cell_type": "code",
   "execution_count": 17,
   "id": "4835f174",
   "metadata": {},
   "outputs": [
    {
     "name": "stdout",
     "output_type": "stream",
     "text": [
      "Enter the text:192.023.01.512\n",
      "192.23.1.512\n"
     ]
    }
   ],
   "source": [
    "import re\n",
    "provided_ip = input(\"Enter the text:\")\n",
    "result_ip = re.sub('\\.[0]*', '.', provided_ip)\n",
    "print(result_ip)\n"
   ]
  },
  {
   "cell_type": "code",
   "execution_count": 19,
   "id": "5450c11c",
   "metadata": {},
   "outputs": [
    {
     "name": "stdout",
     "output_type": "stream",
     "text": [
      "<class 'str'> On August 15th 1947 that India was declared independent from British colonialism, and the reins of control were handed over to the leaders of the Country\n",
      "August 15th 1947\n"
     ]
    }
   ],
   "source": [
    "import re\n",
    "provided_input = \"On August 15th 1947 that India was declared independent from British colonialism, and the reins of control were handed over to the leaders of the Country\"\n",
    "with open(\"C:/Users/vinuv/Downloads/program-docs/sample.txt\", \"w\") as txt_file:\n",
    "    txt_file.write(str(provided_input ))\n",
    "with open(\"C:/Users/vinuv/Downloads/program-docs/sample.txt\") as txt_file:\n",
    "    txt_data = txt_file.read()\n",
    "    print(type(txt_data), txt_data)\n",
    "    result = re.compile(r\"\\b(\\w+ \\d{1,2}th \\d{4})\\b\").findall(txt_data)\n",
    "    print(result[0])\n"
   ]
  },
  {
   "cell_type": "code",
   "execution_count": 20,
   "id": "38732753",
   "metadata": {},
   "outputs": [
    {
     "name": "stdout",
     "output_type": "stream",
     "text": [
      "Enter the text:The quick brown fox jumps over the lazy dog.\n",
      "['fox', 'dog']\n"
     ]
    }
   ],
   "source": [
    "import re\n",
    "provided_input = input(\"Enter the text:\")\n",
    "all_matches = re.compile(r\"(\\bhorse|dog|fox\\b)\").findall(provided_input)\n",
    "print(all_matches)\n"
   ]
  },
  {
   "cell_type": "code",
   "execution_count": 21,
   "id": "5c129835",
   "metadata": {},
   "outputs": [
    {
     "name": "stdout",
     "output_type": "stream",
     "text": [
      "Enter the text:The quick brown fox jumps over the lazy dog.\n",
      "fox and the Starting Position is 16 , Ending Position is 19\n"
     ]
    }
   ],
   "source": [
    "import re\n",
    "provided_input = input(\"Enter the text:\")\n",
    "all_matches = re.compile(r\"(\\bfox\\b)\").search(provided_input)\n",
    "print(all_matches.group(), \"and the Starting Position is\", all_matches.start(), \", Ending Position is\", all_matches.end())\n"
   ]
  },
  {
   "cell_type": "code",
   "execution_count": 22,
   "id": "13e5c2f0",
   "metadata": {},
   "outputs": [
    {
     "name": "stdout",
     "output_type": "stream",
     "text": [
      "Enter the text:Python exercises, PHP exercises, C# exercises\n",
      "['exercises', 'exercises', 'exercises']\n"
     ]
    }
   ],
   "source": [
    "import re\n",
    "provided_input = input(\"Enter the text:\")\n",
    "all_matches = re.compile(r\"(\\bexercises\\b)\").findall(provided_input)\n",
    "print(all_matches)\n"
   ]
  },
  {
   "cell_type": "code",
   "execution_count": 23,
   "id": "c94fcc2a",
   "metadata": {},
   "outputs": [
    {
     "name": "stdout",
     "output_type": "stream",
     "text": [
      "Enter the text:Python exercises, PHP exercises, C# exercises\n",
      "exercises and the Starting Position is 7 , Ending Position is 16\n",
      "exercises and the Starting Position is 22 , Ending Position is 31\n",
      "exercises and the Starting Position is 36 , Ending Position is 45\n"
     ]
    }
   ],
   "source": [
    "import re\n",
    "provided_input = input(\"Enter the text:\")\n",
    "all_matches = re.compile(r\"(\\bexercises\\b)\").finditer(provided_input)\n",
    "for each_match in all_matches:\n",
    "        print(each_match.group(), \"and the Starting Position is\", each_match.start(), \", Ending Position is\", each_match.end())\n"
   ]
  },
  {
   "cell_type": "code",
   "execution_count": 24,
   "id": "342a5fa0",
   "metadata": {},
   "outputs": [
    {
     "name": "stdout",
     "output_type": "stream",
     "text": [
      "Present time is: 2023-11-03 14:43:55.085142\n",
      "Modified format time is: 03-11-2023\n"
     ]
    }
   ],
   "source": [
    "import datetime\n",
    "time_now = datetime.datetime.now()\n",
    "print(\"Present time is:\",time_now)\n",
    "modified_format = time_now.strftime(\"%d-%m-%Y\")\n",
    "print(\"Modified format time is:\",modified_format)\n"
   ]
  },
  {
   "cell_type": "code",
   "execution_count": 25,
   "id": "d6c08fa9",
   "metadata": {},
   "outputs": [
    {
     "name": "stdout",
     "output_type": "stream",
     "text": [
      "Enter the text:01.12 0132.123 2.31875 145.8 3.01 27.25 0.25\n",
      "List of all matched decimals:  ['01.12', '0132.123', '2.31875', '145.8', '3.01', '27.25', '0.25']\n",
      "Final Result:  ['01.12', '145.8', '3.01', '27.25', '0.25']\n"
     ]
    }
   ],
   "source": [
    "import re\n",
    "provided_input = input(\"Enter the text:\")\n",
    "all_matches = re.compile(r\"\\d+\\.\\d+\").findall(provided_input)\n",
    "print(\"List of all matched decimals: \", all_matches)\n",
    "match_decimal_max_2_precisions = [re.compile(r\"\\d+\\.\\d{1,2}$\").match(x).group() for x in all_matches if re.compile(r\"\\d+\\.\\d{1,2}$\").match(x)]\n",
    "print(\"Final Result: \", match_decimal_max_2_precisions)\n"
   ]
  },
  {
   "cell_type": "code",
   "execution_count": 26,
   "id": "2689f394",
   "metadata": {},
   "outputs": [
    {
     "name": "stdout",
     "output_type": "stream",
     "text": [
      "Enter the text:RegularExpression1IsAn2Important_Topic3In_Python@#\n",
      "1 and the Starting Position is 17 , Ending Position is 18\n",
      "2 and the Starting Position is 22 , Ending Position is 23\n",
      "3 and the Starting Position is 38 , Ending Position is 39\n"
     ]
    }
   ],
   "source": [
    "import re\n",
    "provided_input = input(\"Enter the text:\")\n",
    "all_matches = re.compile(r\"\\d+\").finditer(provided_input)\n",
    "for each_match in all_matches:\n",
    "        print(each_match.group(), \"and the Starting Position is\", each_match.start(), \", Ending Position is\", each_match.end())\n"
   ]
  },
  {
   "cell_type": "code",
   "execution_count": 28,
   "id": "1eb147d7",
   "metadata": {},
   "outputs": [
    {
     "name": "stdout",
     "output_type": "stream",
     "text": [
      "Enter the text:My marks in each semester are: 947, 896, 926, 524, 734, 950, 642\n",
      "List of all matched: ['947', '896', '926', '524', '734', '950', '642']\n",
      "List of numbers :  [524, 642, 734, 896, 926, 947, 950]\n",
      "Largest number is :  950\n"
     ]
    }
   ],
   "source": [
    "import re\n",
    "provided_input = input(\"Enter the text:\")\n",
    "all_matches = re.compile(r\"\\d+\").findall(provided_input)\n",
    "print(\"List of all matched:\", all_matches)\n",
    "list_of_numbers = [eval(x) for x in all_matches]\n",
    "list_of_numbers.sort()\n",
    "print(\"List of numbers : \", list_of_numbers)\n",
    "print(\"Largest number is : \", list_of_numbers[-1])\n"
   ]
  },
  {
   "cell_type": "code",
   "execution_count": 29,
   "id": "f4b4cfcd",
   "metadata": {},
   "outputs": [
    {
     "name": "stdout",
     "output_type": "stream",
     "text": [
      "Enter the text:RegularExpressionIsAnImportantTopicInPython\n",
      "Regular Expression Is An Important Topic In Python\n"
     ]
    }
   ],
   "source": [
    "import re\n",
    "provided_input = input(\"Enter the text:\")\n",
    "result = [x for x in re.split(r\"(?=[A-Z])\",provided_input.strip()) if x]\n",
    "print(\" \".join(result))\n",
    "\n"
   ]
  },
  {
   "cell_type": "code",
   "execution_count": 30,
   "id": "4c327034",
   "metadata": {},
   "outputs": [
    {
     "name": "stdout",
     "output_type": "stream",
     "text": [
      "Enter the text:Working with regular Eexpressions is Aart\n",
      "Matching patter:  Aart\n"
     ]
    }
   ],
   "source": [
    "import re\n",
    "provided_input = input(\"Enter the text:\")\n",
    "all_matches = re.compile(r\"[A-Z]+[a-z]+$\").search(provided_input)\n",
    "print(\"Matching patter: \", all_matches.group())\n"
   ]
  },
  {
   "cell_type": "code",
   "execution_count": 31,
   "id": "25aef8e2",
   "metadata": {},
   "outputs": [
    {
     "name": "stdout",
     "output_type": "stream",
     "text": [
      "Enter the text:Hello hello world world\n",
      "List of all matched: Hello hello world\n"
     ]
    }
   ],
   "source": [
    "import re\n",
    "provided_input = input(\"Enter the text:\")\n",
    "all_matches = re.sub(r\"\\b(\\w+)(?:\\W+\\1\\b)+\",r\"\\1\",provided_input)\n",
    "print(\"List of all matched:\", all_matches)\n"
   ]
  },
  {
   "cell_type": "code",
   "execution_count": 32,
   "id": "e33d4dd4",
   "metadata": {},
   "outputs": [
    {
     "name": "stdout",
     "output_type": "stream",
     "text": [
      "Enter the text:Vinod1546\n",
      "Status: Matched\n"
     ]
    }
   ],
   "source": [
    "import re\n",
    "provided_input = input(\"Enter the text:\")\n",
    "all_matches = re.search(r\"\\w$\",provided_input)\n",
    "if all_matches:\n",
    "    print(\"Status: Matched\")\n",
    "else:\n",
    "    print(\"Status: Not Matched\")\n"
   ]
  },
  {
   "cell_type": "code",
   "execution_count": 33,
   "id": "b0de274e",
   "metadata": {},
   "outputs": [
    {
     "name": "stdout",
     "output_type": "stream",
     "text": [
      "Enter the text:RT @kapil_kausik: #Doltiwal I mean #xyzabc is \"hurt\" by #Demonetization as the same has rendered USELESS <ed><U+00A0><U+00BD><ed><U+00B1><U+0089> \"acquired funds\" No wo\n",
      "List of all matched: ['#Doltiwal', '#xyzabc', '#Demonetization']\n"
     ]
    }
   ],
   "source": [
    "import re\n",
    "provided_input = input(\"Enter the text:\")\n",
    "all_matches = re.compile(r\"#\\w+\").findall(provided_input)\n",
    "print(\"List of all matched:\", all_matches)\n"
   ]
  },
  {
   "cell_type": "code",
   "execution_count": 34,
   "id": "bf9ac234",
   "metadata": {},
   "outputs": [
    {
     "name": "stdout",
     "output_type": "stream",
     "text": [
      "Enter the text::\"@Jags123456 Bharat band on 28??<ed><U+00A0><U+00BD><ed><U+00B8><U+0082>Those who  are protesting #demonetization  are all different party leaders\n",
      "List of all matched: :\"@Jags123456 Bharat band on 28??<ed><ed>Those who  are protesting #demonetization  are all different party leaders\n"
     ]
    }
   ],
   "source": [
    "import re\n",
    "provided_input = input(\"Enter the text:\")\n",
    "all_matches = re.sub(r\"<U\\+\\w+>\",\"\",provided_input)\n",
    "print(\"List of all matched:\", all_matches)\n"
   ]
  },
  {
   "cell_type": "code",
   "execution_count": 35,
   "id": "14a5613d",
   "metadata": {},
   "outputs": [
    {
     "name": "stdout",
     "output_type": "stream",
     "text": [
      "<class 'str'> Ron was born on 12-09-1992 and he was admitted to school 15-12-1999.\n",
      "['12-09-1992', '15-12-1999']\n"
     ]
    }
   ],
   "source": [
    "import re\n",
    "provided_input = \"Ron was born on 12-09-1992 and he was admitted to school 15-12-1999.\"\n",
    "with open(\"C:/Users/vinuv/Downloads/program-docs/sample1.txt\", \"w\") as txt_file:\n",
    "    txt_file.write(str(provided_input ))\n",
    "with open(\"C:/Users/vinuv/Downloads/program-docs/sample1.txt\") as txt_file:\n",
    "    txt_data = txt_file.read()\n",
    "    print(type(txt_data), txt_data)\n",
    "    result = re.compile(r\"\\b(\\d{2}-\\d{2}-\\d{4})\\b\").findall(txt_data)\n",
    "    print(result)\n"
   ]
  },
  {
   "cell_type": "code",
   "execution_count": 36,
   "id": "03795f5a",
   "metadata": {},
   "outputs": [
    {
     "name": "stdout",
     "output_type": "stream",
     "text": [
      "Enter the text:The following example creates an ArrayList with a capacity of 50 elements. 4 elements are then added to the ArrayList and the ArrayList is trimmed accordingly.\n",
      "List of all matched:  following example creates  ArrayList  a capacity   elements. 4 elements   added   ArrayList   ArrayList  trimmed accordingly.\n"
     ]
    }
   ],
   "source": [
    "import re\n",
    "provided_input = input(\"Enter the text:\")\n",
    "all_matches = re.sub(r\"(\\b\\w{2,4}\\b)\",\"\",provided_input)\n",
    "print(\"List of all matched:\", all_matches)\n"
   ]
  },
  {
   "cell_type": "code",
   "execution_count": null,
   "id": "a24706ef",
   "metadata": {},
   "outputs": [],
   "source": []
  }
 ],
 "metadata": {
  "kernelspec": {
   "display_name": "Python 3 (ipykernel)",
   "language": "python",
   "name": "python3"
  },
  "language_info": {
   "codemirror_mode": {
    "name": "ipython",
    "version": 3
   },
   "file_extension": ".py",
   "mimetype": "text/x-python",
   "name": "python",
   "nbconvert_exporter": "python",
   "pygments_lexer": "ipython3",
   "version": "3.10.9"
  }
 },
 "nbformat": 4,
 "nbformat_minor": 5
}
